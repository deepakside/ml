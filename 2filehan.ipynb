{
 "cells": [
  {
   "cell_type": "markdown",
   "id": "a98b12dd",
   "metadata": {},
   "source": [
    "<font size = \"6\">PROGRAM - 2</font><br><br><br>\n",
    "<center><font size = \"3\">File Handling</font></center><br><br>"
   ]
  },
  {
   "cell_type": "code",
   "execution_count": 2,
   "id": "79613113",
   "metadata": {},
   "outputs": [],
   "source": [
    "import numpy as np\n",
    "import pandas as pd"
   ]
  },
  {
   "cell_type": "markdown",
   "id": "c631a6ae",
   "metadata": {},
   "source": [
    "<font size = \"6\">(A) : Load data from a text file (file should contain matrix data)</font>"
   ]
  },
  {
   "cell_type": "code",
   "execution_count": 7,
   "id": "e87cd1c5",
   "metadata": {},
   "outputs": [
    {
     "name": "stdout",
     "output_type": "stream",
     "text": [
      "[[13 12  9]\n",
      " [ 8 25 14]\n",
      " [20  6  8]]\n"
     ]
    }
   ],
   "source": [
    "#Text file data converted to integer data type\n",
    "File_data = np.loadtxt(\"f2.txt\", dtype = int)\n",
    "print(File_data)"
   ]
  },
  {
   "cell_type": "markdown",
   "id": "501443e1",
   "metadata": {},
   "source": [
    "<font size = \"6\">(B) : Use commands to compute the : </font>"
   ]
  },
  {
   "cell_type": "code",
   "execution_count": 8,
   "id": "6712da3c",
   "metadata": {},
   "outputs": [
    {
     "data": {
      "text/plain": [
       "3"
      ]
     },
     "execution_count": 8,
     "metadata": {},
     "output_type": "execute_result"
    }
   ],
   "source": [
    "#(i)Size of Matrix\n",
    "len(File_data)"
   ]
  },
  {
   "cell_type": "code",
   "execution_count": 9,
   "id": "f67b9773",
   "metadata": {},
   "outputs": [],
   "source": [
    "#(ii)Size/length of a particular row/column"
   ]
  },
  {
   "cell_type": "code",
   "execution_count": 10,
   "id": "6dab48e7",
   "metadata": {},
   "outputs": [
    {
     "data": {
      "text/plain": [
       "3"
      ]
     },
     "execution_count": 10,
     "metadata": {},
     "output_type": "execute_result"
    }
   ],
   "source": [
    "#Size of 1st column\n",
    "len(File_data[:,1])"
   ]
  },
  {
   "cell_type": "code",
   "execution_count": 11,
   "id": "9e83d9b7",
   "metadata": {},
   "outputs": [
    {
     "data": {
      "text/plain": [
       "3"
      ]
     },
     "execution_count": 11,
     "metadata": {},
     "output_type": "execute_result"
    }
   ],
   "source": [
    "#Size of Zeroth Row\n",
    "len(File_data[0])"
   ]
  },
  {
   "cell_type": "markdown",
   "id": "0f3df567",
   "metadata": {},
   "source": [
    "<font size = \"6\">(C) : Store matrix data to a text file </font>"
   ]
  },
  {
   "cell_type": "code",
   "execution_count": 12,
   "id": "f60e66ae",
   "metadata": {},
   "outputs": [
    {
     "data": {
      "text/plain": [
       "array([[16, 12, 15],\n",
       "       [11,  1,  1],\n",
       "       [10, 12,  3]])"
      ]
     },
     "execution_count": 12,
     "metadata": {},
     "output_type": "execute_result"
    }
   ],
   "source": [
    "d1 = np.random.randint(1,20,9).reshape(3,3)\n",
    "d1"
   ]
  },
  {
   "cell_type": "code",
   "execution_count": 13,
   "id": "df12d395",
   "metadata": {},
   "outputs": [],
   "source": [
    "np.savetxt(\"f2c.txt\", d1)"
   ]
  },
  {
   "cell_type": "code",
   "execution_count": 14,
   "id": "0f8a3072",
   "metadata": {},
   "outputs": [
    {
     "name": "stdout",
     "output_type": "stream",
     "text": [
      "\n",
      "Content in file1.txt:\n",
      " [[16. 12. 15.]\n",
      " [11.  1.  1.]\n",
      " [10. 12.  3.]]\n"
     ]
    }
   ],
   "source": [
    "content = np.loadtxt('f2c.txt')\n",
    "print(\"\\nContent in file1.txt:\\n\", content)"
   ]
  }
 ],
 "metadata": {
  "kernelspec": {
   "display_name": "Python 3 (ipykernel)",
   "language": "python",
   "name": "python3"
  },
  "language_info": {
   "codemirror_mode": {
    "name": "ipython",
    "version": 3
   },
   "file_extension": ".py",
   "mimetype": "text/x-python",
   "name": "python",
   "nbconvert_exporter": "python",
   "pygments_lexer": "ipython3",
   "version": "3.9.13"
  }
 },
 "nbformat": 4,
 "nbformat_minor": 5
}
