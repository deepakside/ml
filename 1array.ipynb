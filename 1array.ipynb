{
 "cells": [
  {
   "cell_type": "markdown",
   "id": "255b656e",
   "metadata": {},
   "source": [
    "<font size = \"6\">PROGRAM - 1</font><br><br><br>\n",
    "<center><font size = \"3\">Arrays and Metrices</font></center><br><br>\n"
   ]
  },
  {
   "cell_type": "markdown",
   "id": "418af184",
   "metadata": {},
   "source": [
    "<font size = \"6\">(A) : Create arrays with specific values:</font>"
   ]
  },
  {
   "cell_type": "code",
   "execution_count": 1,
   "id": "2e1adc2e",
   "metadata": {},
   "outputs": [],
   "source": [
    "import numpy as np\n",
    "import pandas as pd"
   ]
  },
  {
   "cell_type": "code",
   "execution_count": 2,
   "id": "6cd01a36",
   "metadata": {},
   "outputs": [],
   "source": [
    "#(i) array of all ones\n",
    "a1=np.ones(6)"
   ]
  },
  {
   "cell_type": "code",
   "execution_count": 3,
   "id": "74b95765",
   "metadata": {},
   "outputs": [
    {
     "data": {
      "text/plain": [
       "array([1., 1., 1., 1., 1., 1.])"
      ]
     },
     "execution_count": 3,
     "metadata": {},
     "output_type": "execute_result"
    }
   ],
   "source": [
    "a1"
   ]
  },
  {
   "cell_type": "code",
   "execution_count": 4,
   "id": "fbc82061",
   "metadata": {},
   "outputs": [],
   "source": [
    "#(ii) array of all zeros\n",
    "a2= np.zeros(6)"
   ]
  },
  {
   "cell_type": "code",
   "execution_count": 5,
   "id": "3373ca26",
   "metadata": {},
   "outputs": [
    {
     "data": {
      "text/plain": [
       "array([0., 0., 0., 0., 0., 0.])"
      ]
     },
     "execution_count": 5,
     "metadata": {},
     "output_type": "execute_result"
    }
   ],
   "source": [
    "a2"
   ]
  },
  {
   "cell_type": "code",
   "execution_count": 6,
   "id": "73b6b01a",
   "metadata": {},
   "outputs": [],
   "source": [
    "#(iii) array with random values within a range\n",
    "a3 = np.random.randint(1,20,9)"
   ]
  },
  {
   "cell_type": "code",
   "execution_count": 7,
   "id": "6c21188d",
   "metadata": {},
   "outputs": [
    {
     "data": {
      "text/plain": [
       "array([ 2, 18, 14,  4, 12, 18, 14,  7, 10])"
      ]
     },
     "execution_count": 7,
     "metadata": {},
     "output_type": "execute_result"
    }
   ],
   "source": [
    "a3"
   ]
  },
  {
   "cell_type": "code",
   "execution_count": 8,
   "id": "d217e407",
   "metadata": {},
   "outputs": [],
   "source": [
    "#(iv) a diagonal matrix\n",
    "diagonal_mat = np.eye(4)"
   ]
  },
  {
   "cell_type": "code",
   "execution_count": 9,
   "id": "733187f9",
   "metadata": {},
   "outputs": [
    {
     "data": {
      "text/plain": [
       "array([[1., 0., 0., 0.],\n",
       "       [0., 1., 0., 0.],\n",
       "       [0., 0., 1., 0.],\n",
       "       [0., 0., 0., 1.]])"
      ]
     },
     "execution_count": 9,
     "metadata": {},
     "output_type": "execute_result"
    }
   ],
   "source": [
    "diagonal_mat"
   ]
  },
  {
   "cell_type": "markdown",
   "id": "a8fbb295",
   "metadata": {},
   "source": [
    "<font size = \"6\">(B) : Perform other matrix operations:</font>"
   ]
  },
  {
   "cell_type": "code",
   "execution_count": 10,
   "id": "7fe5da31",
   "metadata": {},
   "outputs": [],
   "source": [
    "arr1 = np.array([1,2,-3,4,6,-1,3,8,3]).reshape(3,3)"
   ]
  },
  {
   "cell_type": "code",
   "execution_count": 11,
   "id": "e2a8952e",
   "metadata": {},
   "outputs": [
    {
     "data": {
      "text/plain": [
       "array([[ 1,  2, -3],\n",
       "       [ 4,  6, -1],\n",
       "       [ 3,  8,  3]])"
      ]
     },
     "execution_count": 11,
     "metadata": {},
     "output_type": "execute_result"
    }
   ],
   "source": [
    "arr1"
   ]
  },
  {
   "cell_type": "code",
   "execution_count": 12,
   "id": "57ae7b8a",
   "metadata": {},
   "outputs": [],
   "source": [
    "#(i) convert matrix data to absolute values\n",
    "matrix1 = np.absolute(arr1)"
   ]
  },
  {
   "cell_type": "code",
   "execution_count": 13,
   "id": "26606f89",
   "metadata": {},
   "outputs": [
    {
     "data": {
      "text/plain": [
       "array([[1, 2, 3],\n",
       "       [4, 6, 1],\n",
       "       [3, 8, 3]])"
      ]
     },
     "execution_count": 13,
     "metadata": {},
     "output_type": "execute_result"
    }
   ],
   "source": [
    "matrix1"
   ]
  },
  {
   "cell_type": "code",
   "execution_count": 14,
   "id": "5c7a35e3",
   "metadata": {},
   "outputs": [],
   "source": [
    "#(ii) convert matrix data to negative values\n",
    "matrix2 = np.negative(arr1)"
   ]
  },
  {
   "cell_type": "code",
   "execution_count": 15,
   "id": "d6d48689",
   "metadata": {},
   "outputs": [
    {
     "data": {
      "text/plain": [
       "array([[-1, -2,  3],\n",
       "       [-4, -6,  1],\n",
       "       [-3, -8, -3]])"
      ]
     },
     "execution_count": 15,
     "metadata": {},
     "output_type": "execute_result"
    }
   ],
   "source": [
    "matrix2"
   ]
  },
  {
   "cell_type": "code",
   "execution_count": 16,
   "id": "2bddc55c",
   "metadata": {},
   "outputs": [],
   "source": [
    "#(iii) add rows & columns from a matrix\n",
    "matrix3 = np.append(arr1, matrix2, axis = 0)"
   ]
  },
  {
   "cell_type": "code",
   "execution_count": 17,
   "id": "37592f4d",
   "metadata": {},
   "outputs": [
    {
     "data": {
      "text/plain": [
       "array([[ 1,  2, -3],\n",
       "       [ 4,  6, -1],\n",
       "       [ 3,  8,  3],\n",
       "       [-1, -2,  3],\n",
       "       [-4, -6,  1],\n",
       "       [-3, -8, -3]])"
      ]
     },
     "execution_count": 17,
     "metadata": {},
     "output_type": "execute_result"
    }
   ],
   "source": [
    "matrix3"
   ]
  },
  {
   "cell_type": "code",
   "execution_count": 18,
   "id": "d97596eb",
   "metadata": {},
   "outputs": [
    {
     "name": "stdout",
     "output_type": "stream",
     "text": [
      "data after 1st row deleted :  [[ 1  2 -3]\n",
      " [ 3  8  3]\n",
      " [-1 -2  3]\n",
      " [-4 -6  1]\n",
      " [-3 -8 -3]]\n"
     ]
    }
   ],
   "source": [
    "#(iv) remove rows & colums from a matrix\n",
    "    #delete 1st row\n",
    "data = np.delete(matrix3, 1, 0)\n",
    "print(\"data after 1st row deleted : \", data)"
   ]
  },
  {
   "cell_type": "code",
   "execution_count": 19,
   "id": "e1e6d254",
   "metadata": {},
   "outputs": [
    {
     "name": "stdout",
     "output_type": "stream",
     "text": [
      "data after 0th column deleted :  [[ 2 -3]\n",
      " [ 6 -1]\n",
      " [ 8  3]\n",
      " [-2  3]\n",
      " [-6  1]\n",
      " [-8 -3]]\n"
     ]
    }
   ],
   "source": [
    "    #delete 0th column\n",
    "data = np.delete(matrix3, 0, 1)\n",
    "print(\"data after 0th column deleted : \", data)"
   ]
  },
  {
   "cell_type": "code",
   "execution_count": 20,
   "id": "399351c2",
   "metadata": {},
   "outputs": [
    {
     "data": {
      "text/plain": [
       "array([[-1, -2,  3],\n",
       "       [-4, -6,  1],\n",
       "       [-3, -8, -3]])"
      ]
     },
     "execution_count": 20,
     "metadata": {},
     "output_type": "execute_result"
    }
   ],
   "source": [
    "#(v) find the maximum and minimum values in a matrix or in a row/column\n",
    "matrix2"
   ]
  },
  {
   "cell_type": "code",
   "execution_count": 21,
   "id": "ea2f97ad",
   "metadata": {},
   "outputs": [
    {
     "data": {
      "text/plain": [
       "3"
      ]
     },
     "execution_count": 21,
     "metadata": {},
     "output_type": "execute_result"
    }
   ],
   "source": [
    "matrix2.max() #maximum value"
   ]
  },
  {
   "cell_type": "code",
   "execution_count": 22,
   "id": "1fc921c4",
   "metadata": {},
   "outputs": [
    {
     "data": {
      "text/plain": [
       "-8"
      ]
     },
     "execution_count": 22,
     "metadata": {},
     "output_type": "execute_result"
    }
   ],
   "source": [
    "matrix2.min() #minimum value"
   ]
  },
  {
   "cell_type": "code",
   "execution_count": 23,
   "id": "ad0437a6",
   "metadata": {},
   "outputs": [
    {
     "data": {
      "text/plain": [
       "-23"
      ]
     },
     "execution_count": 23,
     "metadata": {},
     "output_type": "execute_result"
    }
   ],
   "source": [
    "#(vi) find the sum of all/some elements in a matrix\n",
    "total = np.sum(matrix2)\n",
    "total"
   ]
  }
 ],
 "metadata": {
  "kernelspec": {
   "display_name": "Python 3 (ipykernel)",
   "language": "python",
   "name": "python3"
  },
  "language_info": {
   "codemirror_mode": {
    "name": "ipython",
    "version": 3
   },
   "file_extension": ".py",
   "mimetype": "text/x-python",
   "name": "python",
   "nbconvert_exporter": "python",
   "pygments_lexer": "ipython3",
   "version": "3.9.13"
  }
 },
 "nbformat": 4,
 "nbformat_minor": 5
}
