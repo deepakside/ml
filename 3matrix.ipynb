{
 "cells": [
  {
   "cell_type": "markdown",
   "id": "d900ef8c",
   "metadata": {},
   "source": [
    "<font size = \"6\">PROGRAM - 3</font><br><br><br>\n",
    "<center><font size = \"3\">Matrices</font></center><br><br>"
   ]
  },
  {
   "cell_type": "code",
   "execution_count": 1,
   "id": "571e32e5",
   "metadata": {},
   "outputs": [],
   "source": [
    "import numpy as np\n",
    "import pandas as pd"
   ]
  },
  {
   "cell_type": "markdown",
   "id": "020ed22e",
   "metadata": {},
   "source": [
    "<font size = \"6\">(A) : Perform basic operation on matrices:</font>"
   ]
  },
  {
   "cell_type": "code",
   "execution_count": 2,
   "id": "3464bfce",
   "metadata": {},
   "outputs": [],
   "source": [
    "matrix1 = np.random.randint(2,20,9).reshape(3,3)"
   ]
  },
  {
   "cell_type": "code",
   "execution_count": 3,
   "id": "0d80c420",
   "metadata": {},
   "outputs": [],
   "source": [
    "matrix2 = np.random.randint(1,10,9).reshape(3,3)"
   ]
  },
  {
   "cell_type": "code",
   "execution_count": 4,
   "id": "9c4193c2",
   "metadata": {},
   "outputs": [
    {
     "data": {
      "text/plain": [
       "array([[ 6, 13, 10],\n",
       "       [18,  8,  3],\n",
       "       [13,  2,  8]])"
      ]
     },
     "execution_count": 4,
     "metadata": {},
     "output_type": "execute_result"
    }
   ],
   "source": [
    "matrix1"
   ]
  },
  {
   "cell_type": "code",
   "execution_count": 5,
   "id": "9a24a743",
   "metadata": {},
   "outputs": [
    {
     "data": {
      "text/plain": [
       "array([[8, 5, 8],\n",
       "       [1, 1, 1],\n",
       "       [3, 3, 9]])"
      ]
     },
     "execution_count": 5,
     "metadata": {},
     "output_type": "execute_result"
    }
   ],
   "source": [
    "matrix2"
   ]
  },
  {
   "cell_type": "code",
   "execution_count": 7,
   "id": "b7b53493",
   "metadata": {},
   "outputs": [],
   "source": [
    "#(i) addition of 2 matrices\n",
    "matrix3 = matrix1+matrix2"
   ]
  },
  {
   "cell_type": "code",
   "execution_count": 8,
   "id": "e0554f90",
   "metadata": {},
   "outputs": [
    {
     "data": {
      "text/plain": [
       "array([[14, 18, 18],\n",
       "       [19,  9,  4],\n",
       "       [16,  5, 17]])"
      ]
     },
     "execution_count": 8,
     "metadata": {},
     "output_type": "execute_result"
    }
   ],
   "source": [
    "matrix3"
   ]
  },
  {
   "cell_type": "code",
   "execution_count": 9,
   "id": "ec5cd1b0",
   "metadata": {},
   "outputs": [],
   "source": [
    "#(ii) subtraction of 2 matrices\n",
    "matrix4 = matrix1-matrix2"
   ]
  },
  {
   "cell_type": "code",
   "execution_count": 10,
   "id": "aa50f731",
   "metadata": {},
   "outputs": [
    {
     "data": {
      "text/plain": [
       "array([[-2,  8,  2],\n",
       "       [17,  7,  2],\n",
       "       [10, -1, -1]])"
      ]
     },
     "execution_count": 10,
     "metadata": {},
     "output_type": "execute_result"
    }
   ],
   "source": [
    "matrix4"
   ]
  },
  {
   "cell_type": "code",
   "execution_count": 11,
   "id": "a7cd837e",
   "metadata": {},
   "outputs": [],
   "source": [
    "#(iii) Multiplication of 2 matrices\n",
    "matrix5 = matrix1*matrix2"
   ]
  },
  {
   "cell_type": "code",
   "execution_count": 12,
   "id": "d4ba0e28",
   "metadata": {},
   "outputs": [
    {
     "data": {
      "text/plain": [
       "array([[48, 65, 80],\n",
       "       [18,  8,  3],\n",
       "       [39,  6, 72]])"
      ]
     },
     "execution_count": 12,
     "metadata": {},
     "output_type": "execute_result"
    }
   ],
   "source": [
    "matrix5"
   ]
  },
  {
   "cell_type": "code",
   "execution_count": 13,
   "id": "b10f01a6",
   "metadata": {},
   "outputs": [],
   "source": [
    "#(iv) Transpose of matrices\n",
    "matrix6 = np.transpose(matrix5)"
   ]
  },
  {
   "cell_type": "code",
   "execution_count": 14,
   "id": "b64b31dc",
   "metadata": {},
   "outputs": [
    {
     "data": {
      "text/plain": [
       "array([[48, 18, 39],\n",
       "       [65,  8,  6],\n",
       "       [80,  3, 72]])"
      ]
     },
     "execution_count": 14,
     "metadata": {},
     "output_type": "execute_result"
    }
   ],
   "source": [
    "matrix6"
   ]
  },
  {
   "cell_type": "markdown",
   "id": "b621d95a",
   "metadata": {},
   "source": [
    "<font size = \"6\">(B) : Display specific rows or column of a matrix</font>"
   ]
  },
  {
   "cell_type": "code",
   "execution_count": 15,
   "id": "f67cbb97",
   "metadata": {},
   "outputs": [],
   "source": [
    "matrix7 = np.random.randint(2,100,36).reshape(6,6)"
   ]
  },
  {
   "cell_type": "code",
   "execution_count": 16,
   "id": "e22aacbc",
   "metadata": {},
   "outputs": [
    {
     "data": {
      "text/plain": [
       "array([[27, 94, 55,  8,  8, 19],\n",
       "       [18, 85, 13, 47, 31, 80],\n",
       "       [70, 73, 17, 44, 86, 51],\n",
       "       [75, 97,  6, 49, 67, 88],\n",
       "       [22, 13, 75, 77, 21, 22],\n",
       "       [60, 86, 98, 27, 93,  2]])"
      ]
     },
     "execution_count": 16,
     "metadata": {},
     "output_type": "execute_result"
    }
   ],
   "source": [
    "matrix7"
   ]
  },
  {
   "cell_type": "code",
   "execution_count": 18,
   "id": "8dde6b2a",
   "metadata": {},
   "outputs": [
    {
     "name": "stdout",
     "output_type": "stream",
     "text": [
      "[[94 55  8  8]\n",
      " [85 13 47 31]]\n"
     ]
    }
   ],
   "source": [
    "#Specific rows and columns\n",
    "print(matrix7[0:2,1:5])"
   ]
  }
 ],
 "metadata": {
  "kernelspec": {
   "display_name": "Python 3 (ipykernel)",
   "language": "python",
   "name": "python3"
  },
  "language_info": {
   "codemirror_mode": {
    "name": "ipython",
    "version": 3
   },
   "file_extension": ".py",
   "mimetype": "text/x-python",
   "name": "python",
   "nbconvert_exporter": "python",
   "pygments_lexer": "ipython3",
   "version": "3.9.13"
  }
 },
 "nbformat": 4,
 "nbformat_minor": 5
}
